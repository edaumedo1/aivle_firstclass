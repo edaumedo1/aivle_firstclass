{
 "cells": [
  {
   "cell_type": "code",
   "execution_count": 1,
   "metadata": {},
   "outputs": [
    {
     "name": "stdout",
     "output_type": "stream",
     "text": [
      "안녕하세요? 김덕주님.\n"
     ]
    }
   ],
   "source": [
    "name = input('이름을 입력하세요.:')\n",
    "print(f'안녕하세요? {name}님.')"
   ]
  },
  {
   "cell_type": "code",
   "execution_count": 12,
   "metadata": {},
   "outputs": [
    {
     "data": {
      "text/plain": [
       "234"
      ]
     },
     "execution_count": 12,
     "metadata": {},
     "output_type": "execute_result"
    }
   ],
   "source": [
    "def max4(a, b, c, d, e, f, g, h, i, j, k, l, m, n, o, p, q, r):\n",
    "  return max(a,b,c,d,e,f,g,h,i,j,k,l,m,n,o,p,q,r)\n",
    "max4(3,2,4,1,4,5,34,234,34,34,3,2,34,23,4,234,23,42)"
   ]
  },
  {
   "cell_type": "code",
   "execution_count": 13,
   "metadata": {},
   "outputs": [
    {
     "data": {
      "text/plain": [
       "234"
      ]
     },
     "execution_count": 13,
     "metadata": {},
     "output_type": "execute_result"
    }
   ],
   "source": [
    "def max4(a,b,c,d):\n",
    "  max = a\n",
    "  if b > max:\n",
    "    max = b\n",
    "  if c > max:\n",
    "    max = c\n",
    "  if d > max:\n",
    "    max = d\n",
    "  return max\n",
    "max4(3,2,4,1)"
   ]
  }
 ],
 "metadata": {
  "kernelspec": {
   "display_name": "rataeng",
   "language": "python",
   "name": "python3"
  },
  "language_info": {
   "codemirror_mode": {
    "name": "ipython",
    "version": 3
   },
   "file_extension": ".py",
   "mimetype": "text/x-python",
   "name": "python",
   "nbconvert_exporter": "python",
   "pygments_lexer": "ipython3",
   "version": "3.10.8"
  },
  "orig_nbformat": 4,
  "vscode": {
   "interpreter": {
    "hash": "c6dd7c0ac731e6bb9ba45cbb37dd99db5b51a3543651459146aeac840781d526"
   }
  }
 },
 "nbformat": 4,
 "nbformat_minor": 2
}
